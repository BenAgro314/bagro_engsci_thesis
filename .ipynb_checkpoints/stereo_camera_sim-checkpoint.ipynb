{
 "cells": [
  {
   "cell_type": "code",
   "execution_count": null,
   "id": "c259598d",
   "metadata": {},
   "outputs": [],
   "source": [
    "# Imports\n",
    "%matplotlib notebook\n",
    "import cvxpy as cp\n",
    "import numpy as np\n",
    "import pylgmath\n",
    "import matplotlib.pyplot as plt\n",
    "from mpl_toolkits import mplot3d\n",
    "from mpl_toolkits.mplot3d import Axes3D\n",
    "from matplotlib.patches import FancyArrowPatch\n",
    "from mpl_toolkits.mplot3d import proj3d\n",
    "from matplotlib.text import Annotation\n",
    "from pylgmath.so3.operations import vec2rot\n",
    "import plotting\n",
    "import sim\n",
    "import local_solver\n",
    "from local_solver import projection_error, StereoLocalizationProblem\n",
    "from sdp_relaxation import (\n",
    "    build_general_SDP_problem,\n",
    "    block_diagonal,\n",
    "    build_cost_matrix_v2,\n",
    "    build_rotation_constraint_matrices,\n",
    "    build_measurement_constraint_matrices_v2,\n",
    "    build_measurement_constraint_matrices,\n",
    "    build_parallel_constraint_matrices,\n",
    "    extract_solution_from_X,\n",
    "    build_homo_constraint,\n",
    ")\n",
    "import mosek\n",
    "import iterative_sdp\n",
    "import scipy as sp"
   ]
  },
  {
   "cell_type": "code",
   "execution_count": 2,
   "id": "31fb32da",
   "metadata": {},
   "outputs": [
    {
     "ename": "NameError",
     "evalue": "name 'sim' is not defined",
     "output_type": "error",
     "traceback": [
      "\u001b[0;31m---------------------------------------------------------------------------\u001b[0m",
      "\u001b[0;31mNameError\u001b[0m                                 Traceback (most recent call last)",
      "Cell \u001b[0;32mIn [2], line 2\u001b[0m\n\u001b[1;32m      1\u001b[0m \u001b[38;5;66;03m# make camera\u001b[39;00m\n\u001b[0;32m----> 2\u001b[0m cam \u001b[38;5;241m=\u001b[39m \u001b[43msim\u001b[49m\u001b[38;5;241m.\u001b[39mCamera(\n\u001b[1;32m      3\u001b[0m     f_u \u001b[38;5;241m=\u001b[39m \u001b[38;5;241m160\u001b[39m, \u001b[38;5;66;03m# focal length in horizonal pixels\u001b[39;00m\n\u001b[1;32m      4\u001b[0m     f_v \u001b[38;5;241m=\u001b[39m \u001b[38;5;241m160\u001b[39m, \u001b[38;5;66;03m# focal length in vertical pixels\u001b[39;00m\n\u001b[1;32m      5\u001b[0m     c_u \u001b[38;5;241m=\u001b[39m \u001b[38;5;241m320\u001b[39m, \u001b[38;5;66;03m# pinhole projection in horizonal pixels\u001b[39;00m\n\u001b[1;32m      6\u001b[0m     c_v \u001b[38;5;241m=\u001b[39m \u001b[38;5;241m240\u001b[39m, \u001b[38;5;66;03m# pinhold projection in vertical pixels\u001b[39;00m\n\u001b[1;32m      7\u001b[0m     b \u001b[38;5;241m=\u001b[39m \u001b[38;5;241m0.25\u001b[39m, \u001b[38;5;66;03m# baseline (meters)\u001b[39;00m\n\u001b[1;32m      8\u001b[0m     R \u001b[38;5;241m=\u001b[39m \u001b[38;5;241m0.1\u001b[39m \u001b[38;5;241m*\u001b[39m np\u001b[38;5;241m.\u001b[39meye(\u001b[38;5;241m4\u001b[39m), \u001b[38;5;66;03m# covarience matrix for image-space noise\u001b[39;00m\n\u001b[1;32m      9\u001b[0m     fov \u001b[38;5;241m=\u001b[39m np\u001b[38;5;241m.\u001b[39marray([[\u001b[38;5;241m-\u001b[39m\u001b[38;5;241m1\u001b[39m,\u001b[38;5;241m1\u001b[39m], [\u001b[38;5;241m-\u001b[39m\u001b[38;5;241m1\u001b[39m, \u001b[38;5;241m1\u001b[39m], [\u001b[38;5;241m2\u001b[39m, \u001b[38;5;241m5\u001b[39m]])\n\u001b[1;32m     10\u001b[0m )\n\u001b[1;32m     12\u001b[0m world \u001b[38;5;241m=\u001b[39m sim\u001b[38;5;241m.\u001b[39mWorld(\n\u001b[1;32m     13\u001b[0m     cam \u001b[38;5;241m=\u001b[39m cam,\n\u001b[1;32m     14\u001b[0m     p_wc_extent \u001b[38;5;241m=\u001b[39m np\u001b[38;5;241m.\u001b[39marray([[\u001b[38;5;241m3\u001b[39m], [\u001b[38;5;241m3\u001b[39m], [\u001b[38;5;241m0\u001b[39m]]),\n\u001b[1;32m     15\u001b[0m     num_landmarks \u001b[38;5;241m=\u001b[39m \u001b[38;5;241m5\u001b[39m,\n\u001b[1;32m     16\u001b[0m )\n\u001b[1;32m     17\u001b[0m use_redundant\u001b[38;5;241m=\u001b[39m\u001b[38;5;28;01mFalse\u001b[39;00m\n",
      "\u001b[0;31mNameError\u001b[0m: name 'sim' is not defined"
     ]
    }
   ],
   "source": [
    "# make camera\n",
    "cam = sim.Camera(\n",
    "    f_u = 160, # focal length in horizonal pixels\n",
    "    f_v = 160, # focal length in vertical pixels\n",
    "    c_u = 320, # pinhole projection in horizonal pixels\n",
    "    c_v = 240, # pinhold projection in vertical pixels\n",
    "    b = 0.25, # baseline (meters)\n",
    "    R = 0.1 * np.eye(4), # covarience matrix for image-space noise\n",
    "    fov = np.array([[-1,1], [-1, 1], [2, 5]])\n",
    ")\n",
    "\n",
    "world = sim.World(\n",
    "    cam = cam,\n",
    "    p_wc_extent = np.array([[3], [3], [0]]),\n",
    "    num_landmarks = 5,\n",
    ")\n",
    "use_redundant=False"
   ]
  },
  {
   "cell_type": "code",
   "execution_count": null,
   "id": "55d3c94c",
   "metadata": {
    "scrolled": false
   },
   "outputs": [],
   "source": [
    "# make random camera pose\n",
    "\"\"\"a = np.random.rand(3, 1)\n",
    "theta = np.random.rand() * 2*np.pi\n",
    "C_wc = vec2rot(theta * a/np.linalg.norm(a))\n",
    "T_wc = np.eye(4)\n",
    "T_wc[:3, :3] = C_wc\n",
    "T_wc[:-1, -1] = [3*np.random.rand(), 3*np.random.rand(), 0]\n",
    "\n",
    "# make sim instance w/ N points\n",
    "N = 5\n",
    "fig, ax, p_w, colors = sim.make_stereo_sim_instance(N, T_wc, cam.fov)\"\"\"\n",
    "\n",
    "world.clear_sim_instance()\n",
    "world.make_random_sim_instance()\n",
    "fig, ax, colors = world.render()\n",
    "\n",
    "# Generative camera model \n",
    "y = cam.take_picture(world.T_wc, world.p_w)\n",
    "camfig, (l_ax, r_ax) = sim.render_camera_points(y, colors)"
   ]
  },
  {
   "cell_type": "code",
   "execution_count": null,
   "id": "5e041ff3",
   "metadata": {},
   "outputs": [],
   "source": [
    "if False: # tims problem\n",
    "        # groundtruth pose\n",
    "        T_cw = np.array([[1, 0, 0, 0.2], [0, 1, 0, 0], [0, 0, 1, 1.2], [0, 0, 0, 1]])  \n",
    "\n",
    "        # groundtruth landmarks\n",
    "        J = 5;\n",
    "        p_w = np.zeros((J,4,1))\n",
    "        p_w[0,:,:] = np.matrix('1; 1; 2; 1')\n",
    "        p_w[1,:,:] = np.matrix('1; -1; 2; 1')\n",
    "        p_w[2,:,:] = np.matrix('-1; 1; 2; 1')\n",
    "        p_w[3,:,:] = np.matrix('-1; -1; 2; 1')\n",
    "        p_w[4,:,:] = np.matrix('0; 0; 3; 1')\n",
    "        \n",
    "        world.p_w = p_w\n",
    "        world.T_wc = np.linalg.inv(T_cw)\n",
    "\n",
    "        a = np.array([[0], [0], [1], [0]])\n",
    "\n",
    "        # constant camera matrix\n",
    "        b = 0.2\n",
    "        f_u = 100\n",
    "        f_v = 100\n",
    "        c_u = 50\n",
    "        c_v = 50\n",
    "        \n",
    "        cam = sim.Camera(\n",
    "            f_u = f_u, # focal length in horizonal pixels\n",
    "            f_v = f_v, # focal length in vertical pixels\n",
    "            c_u = c_u, # pinhole projection in horizonal pixels\n",
    "            c_v = c_v, # pinhold projection in vertical pixels\n",
    "            b = b, # baseline (meters)\n",
    "            R = 0 * np.eye(4), # covarience matrix for image-space noise\n",
    "            fov = np.array([[-1,1], [-1, 1], [2, 5]])\n",
    "        )\n",
    "\n",
    "        \n",
    "        # generate measurements with small amount of noise\n",
    "        world.cam = cam\n",
    "        y = cam.take_picture(world.T_wc, world.p_w)"
   ]
  },
  {
   "cell_type": "markdown",
   "id": "04384e8f",
   "metadata": {},
   "source": [
    "## Stereo Localization Problem\n",
    "$$\\mathbf{T_{cw}} = \\frac{1}{2} \\text{argmin}_{\\mathbf{T}} \\sum_k (\\mathbf{y}_k - \\mathbf{M} \\frac{1}{z_k} \\mathbf{T} \\mathbf{p}_k)^T \\mathbf{W}_k (\\mathbf{y}_k - \\mathbf{M} \\frac{1}{z_k} \\mathbf{T} \\mathbf{p}_k),$$\n",
    "$$\\mathbf{T} \\in SE(3),$$\n",
    "$$z_k = \\mathbf{a}^T \\mathbf{T} \\mathbf{p}_k,$$\n",
    "$$\\mathbf{a}^T = \\begin{bmatrix}0 & 0 & 1 & 0\\end{bmatrix}.$$\n",
    "\n",
    "\n",
    "## Local Solver\n",
    "Let $\\mathbf{x} = \\mathbf{T}\\mathbf{p}_k$ so\n",
    "$$\\mathbf{u}_k(\\mathbf{x}) = \\mathbf{y}_k - \\frac{1}{\\mathbf{a}^T\\mathbf{x}} \\mathbf{M} \\mathbf{x}.$$\n",
    "\n",
    "We want to find a perturbation $\\mathbf{\\epsilon}^*$ so we can iterativly update our estimate $\\mathbf{T}$:\n",
    "$$\\mathbf{T} \\leftarrow \\exp(\\mathbf{\\epsilon}^{*^{\\wedge}}) \\mathbf{T}_{op}.$$\n",
    "\n",
    "Linear approximation of $\\mathbf{u}_k(\\mathbf{T} \\mathbf{p}_k)$:\n",
    "\n",
    "$$\\mathbf{u}_k(\\mathbf{T} \\mathbf{p}_k) = \\mathbf{u}_k(\\exp(\\mathbf{\\epsilon}^{\\wedge}) \\mathbf{T}_{op} \\mathbf{p}_k) \\approx \\mathbf{u}_k((\\mathbf{1} + {\\epsilon}^{\\wedge}) \\mathbf{T}_{op} \\mathbf{p}_k) \\approx\\mathbf{u}_k(\\mathbf{T}_{op}\\mathbf{p}_k) + \\frac{\\partial \\mathbf{u}_k}{\\partial \\mathbf{x}}|_{\\mathbf{x} = \\mathbf{T}_{op} \\mathbf{p}_k} (\\mathbf{T}_{op}\\mathbf{p}_k)^{\\odot} \\mathbf{\\epsilon}$$\n",
    "$$\\mathbf{u}_k(\\mathbf{T} \\mathbf{p}_k) \\approx \\mathbf{b}_k + \\mathbf{E}_k^T\\mathbf{\\epsilon}$$\n",
    "\n",
    "where\n",
    "$$\\mathbf{E}_k = (\\frac{\\partial \\mathbf{u}_k}{\\partial \\mathbf{x}}|_{\\mathbf{x} = \\mathbf{T}_{op} \\mathbf{p}_k}(\\mathbf{T}_{op}\\mathbf{p}_k)^{\\odot})^T \\in \\mathbb{R}^{6 \\times 4},$$\n",
    "$$\\mathbf{b}_k = \\mathbf{u}_k(\\mathbf{T}_{op}\\mathbf{p}_k) \\in \\mathbb{R}^{4},$$\n",
    "$$\\frac{\\partial \\mathbf{u}(\\mathbf{x})}{\\partial \\mathbf{x}} = \\left(\\frac{1}{\\mathbf{a}^T \\mathbf{x}}\\right)^2 \\mathbf{M} \\mathbf{x} \\mathbf{a}^T - \\frac{1}{\\mathbf{a}^T \\mathbf{x}} \\mathbf{M}.$$\n",
    "\n",
    "Inserting this back into the cost function\n",
    "$$\\mathcal{L} = \\frac{1}{2} \\sum_k (\\mathbf{b}_k + \\mathbf{E}_k^T\\mathbf{\\epsilon})^T \\mathbf{W}_k (\\mathbf{b}_k + \\mathbf{E}_k^T\\mathbf{\\epsilon}),$$\n",
    "\n",
    "and differentiating w.r.t $\\mathbf{\\epsilon}$ we obtain\n",
    "$$\\frac{\\partial \\mathcal{L}}{\\partial \\mathbf{\\epsilon}} = \\frac{1}{2} \\sum_k \\mathbf{E}_k (\\mathbf{W}_k + \\mathbf{W}_k^T) (\\mathbf{b}_k + \\mathbf{E}_k^T \\mathbf{\\epsilon}).$$\n",
    "\n",
    "Setting this to zero and rearranging, we find an expression that we can solve for $\\mathbf{\\epsilon}^*$:\n",
    "$$\\left(\\sum_k (\\mathbf{E}_k (\\mathbf{W}_k + \\mathbf{W}_k^T) \\mathbf{E}_k^T)\\right) \\mathbf{\\epsilon^*} = - \\sum_k \\mathbf{E}_k (\\mathbf{W}_k + \\mathbf{W}_k^T)\\mathbf{b}_k.$$\n"
   ]
  },
  {
   "cell_type": "code",
   "execution_count": null,
   "id": "a1b57aa3",
   "metadata": {
    "scrolled": true
   },
   "outputs": [],
   "source": [
    "W =  np.eye(4)\n",
    "r0 = np.zeros((3, 1))\n",
    "gamma_r = 0\n",
    "T_op = np.eye(4)\n",
    "\n",
    "problem = StereoLocalizationProblem(world.T_wc, world.p_w, cam.M(), W, y, r_0 = r0, gamma_r = gamma_r)\n",
    "problem.T_init = T_op\n",
    "solution = local_solver.stereo_localization_gauss_newton(problem, log = True)\n",
    "T_op = solution.T_cw\n",
    "local_minima = solution.cost\n",
    "print(\"Estimate:\\n\", T_op)\n",
    "print(\"Ground Truth:\\n\", np.linalg.inv(world.T_wc))"
   ]
  },
  {
   "cell_type": "code",
   "execution_count": null,
   "id": "3f03fde3",
   "metadata": {
    "scrolled": false
   },
   "outputs": [],
   "source": [
    "eps = 1e-10 # try 1e-10\n",
    "mosek_params = {\n",
    "    \"MSK_DPAR_INTPNT_CO_TOL_DFEAS\": eps,\n",
    "    \"MSK_DPAR_INTPNT_CO_TOL_PFEAS\": eps,\n",
    "    \"MSK_DPAR_INTPNT_CO_TOL_REL_GAP\": eps,\n",
    "}\n",
    "X = iterative_sdp.iterative_sdp_solution(\n",
    "    problem,\n",
    "    np.eye(4),\n",
    "    max_iters = 100,\n",
    "    min_update_norm = 1e-6,\n",
    "    mosek_params = mosek_params,\n",
    ")\n",
    "\n",
    "T_sdp = extract_solution_from_X(X)\n",
    "print(\"SDP Solution:\\n\", T_sdp)\n",
    "cost = projection_error(y, T_sdp, cam.M(), world.p_w, W)\n",
    "print(\"SDP Solution Cost:\", cost)\n",
    "print(\"Local Solution Cost:\", local_minima[0][0])"
   ]
  },
  {
   "cell_type": "code",
   "execution_count": null,
   "id": "6771ad68",
   "metadata": {},
   "outputs": [],
   "source": [
    "eig_values, eig_vectors = np.linalg.eig(X)\n",
    "plt.close(\"all\")\n",
    "eig_values\n",
    "plt.scatter(range(len(eig_values)), np.log(eig_values)/np.log(10))\n",
    "plt.ylabel(\"$\\log_{10}(\\lambda)$\")\n",
    "plt.savefig(\"eigs.png\")"
   ]
  },
  {
   "cell_type": "code",
   "execution_count": null,
   "id": "edc30ac6",
   "metadata": {
    "scrolled": false
   },
   "outputs": [],
   "source": [
    "e_3 = np.zeros((4, 1))\n",
    "e_3[2] = 1\n",
    "v = (T_op @ world.p_w) / (e_3.T @ (T_op @ world.p_w))\n",
    "assert np.isclose((np.eye(4,4) - v @ e_3.T) @ (T_op @ world.p_w), 0).all()"
   ]
  },
  {
   "cell_type": "code",
   "execution_count": null,
   "id": "7f84059d",
   "metadata": {
    "scrolled": false
   },
   "outputs": [],
   "source": [
    "#visualize solution\n",
    "plotting.add_coordinate_frame(np.linalg.inv(T_op), ax, \"$\\mathfrak{F}_{estimated}$\")\n",
    "fig"
   ]
  },
  {
   "cell_type": "markdown",
   "id": "55e5d656",
   "metadata": {},
   "source": [
    "## SDP Relaxation Math\n",
    "\n",
    "See `math.tex`\n"
   ]
  },
  {
   "cell_type": "markdown",
   "id": "e7278ae9",
   "metadata": {},
   "source": [
    "## From Stereo Localization to QCQP, and QCQP to SDP"
   ]
  },
  {
   "cell_type": "markdown",
   "id": "7b626ba7",
   "metadata": {},
   "source": [
    "We will define:\n",
    "$$\\mathbf{x} = \\begin{bmatrix} \\mathbf{c}_1 \\\\ \\mathbf{c}_2 \\\\ \\mathbf{c}_3 \\\\ \\mathbf{r} \\\\ \\mathbf{u}_1 \\\\ \\dots \\\\ \\mathbf{u}_n \\\\ \\omega\\end{bmatrix} \\in \\mathbb{R}^{13 + 3n}$$"
   ]
  },
  {
   "cell_type": "code",
   "execution_count": null,
   "id": "7a9ce55d",
   "metadata": {},
   "outputs": [],
   "source": [
    "# build x_local from local solution to test matricies\n",
    "T_op = np.eye(4)\n",
    "Ws = np.zeros((world.num_landmarks, 4, 4))\n",
    "for i in range(world.num_landmarks):\n",
    "    Ws[i] = W\n",
    "x_1 = T_op[:3, :].T.reshape((12, 1))\n",
    "x_2 = (T_op @ world.p_w / np.expand_dims((np.array([0, 0, 1, 0]) @ T_op @ world.p_w), -1))[:, [0, 1, 3], :].reshape(-1, 1)\n",
    "#x_local = np.concatenate((x_1, x_2, np.array([[1]])), axis = 0)"
   ]
  },
  {
   "cell_type": "markdown",
   "id": "52bff805",
   "metadata": {},
   "source": [
    "### Cost Matrix"
   ]
  },
  {
   "cell_type": "code",
   "execution_count": null,
   "id": "904b4b58",
   "metadata": {},
   "outputs": [],
   "source": [
    "num_landmarks = world.num_landmarks\n",
    "# build cost matrix and compare to local solution\n",
    "Q = build_cost_matrix_v2(num_landmarks, problem.y, Ws, problem.M, problem.r_0, problem.gamma_r)\n",
    "Q = Q / np.mean(np.abs(Q)) # improve numerics \n",
    "As = []\n",
    "bs = []\n",
    "\n",
    "# rotation matrix\n",
    "As_rot, bs = build_rotation_constraint_matrices()\n",
    "for A_rot in As_rot:\n",
    "    A = np.zeros((13 + 3*num_landmarks, 13 + 3 *num_landmarks))\n",
    "    A[:9, :9] = A_rot\n",
    "    As.append(A)\n",
    "\n",
    "# homogenization variable\n",
    "A, b = build_homo_constraint(num_landmarks)\n",
    "As.append(A)\n",
    "bs.append(b)\n",
    "\n",
    "# measurements\n",
    "A_measure, b_measure = build_measurement_constraint_matrices_v2(problem.p_w)\n",
    "As += A_measure\n",
    "bs += b_measure"
   ]
  },
  {
   "cell_type": "code",
   "execution_count": null,
   "id": "573a9154",
   "metadata": {
    "scrolled": true
   },
   "outputs": [],
   "source": [
    "\"\"\"\n",
    "eps = 1e-10 # try 1e-10\n",
    "mosek_params = {\n",
    "    \"MSK_DPAR_INTPNT_CO_TOL_DFEAS\": eps,\n",
    "    \"MSK_DPAR_INTPNT_CO_TOL_PFEAS\": eps,\n",
    "    \"MSK_DPAR_INTPNT_CO_TOL_REL_GAP\": eps,\n",
    "}\n",
    "\"\"\"\n",
    "prob, X = build_general_SDP_problem(Q, As, bs)\n",
    "prob.solve(solver=cp.MOSEK, verbose = True)# , mosek_params = mosek_params)\n",
    "\n",
    "# Print result.\n",
    "print(\"The optimal value from the SDP is\", prob.value)\n",
    "print(\"The optimal value from the local solver is\", local_minima)\n",
    "#print(\"A solution X is\")\n",
    "X = X.value\n",
    "print(\"SDP Solution rank:\", np.linalg.matrix_rank(X))"
   ]
  },
  {
   "cell_type": "markdown",
   "id": "62ad076f",
   "metadata": {},
   "source": [
    "# Extract Solution V2\n",
    "\n"
   ]
  },
  {
   "cell_type": "code",
   "execution_count": null,
   "id": "9cb9370f",
   "metadata": {
    "scrolled": true
   },
   "outputs": [],
   "source": [
    "print(\"Ground Truth:\\n\", np.linalg.inv(world.T_wc))\n",
    "T_sdp = extract_solution_from_X(X)\n",
    "print(\"SDP Solution:\\n\", T_sdp)\n",
    "cost = projection_error(y, T_sdp, cam.M(), world.p_w, W)\n",
    "print(\"SDP Solution Cost:\", cost)\n",
    "print(\"Local Solution Cost:\", local_minima[0][0])"
   ]
  },
  {
   "cell_type": "code",
   "execution_count": null,
   "id": "a48c7c62",
   "metadata": {},
   "outputs": [],
   "source": [
    "plotting.add_coordinate_frame(np.linalg.inv(T_sdp), ax, \"$\\mathfrak{F}_{SDP}$\")\n",
    "fig"
   ]
  },
  {
   "cell_type": "code",
   "execution_count": null,
   "id": "274fcb3d",
   "metadata": {
    "scrolled": false
   },
   "outputs": [],
   "source": [
    "eig_values, eig_vectors = np.linalg.eig(X)\n",
    "plt.close(\"all\")\n",
    "eig_values\n",
    "plt.scatter(range(len(eig_values)), eig_values)\n",
    "plt.ylabel(\"$\\lambda$\")\n",
    "plt.savefig(\"eigs.png\")"
   ]
  },
  {
   "cell_type": "code",
   "execution_count": null,
   "id": "595712a5",
   "metadata": {},
   "outputs": [],
   "source": [
    "eig_values, eig_vectors = np.linalg.eig(X)\n",
    "plt.close(\"all\")\n",
    "eig_values\n",
    "plt.scatter(range(len(eig_values)), np.log(eig_values)/np.log(10))\n",
    "plt.ylabel(\"$\\log_{10}(\\lambda)$\")\n",
    "plt.savefig(\"eigs.png\")"
   ]
  },
  {
   "cell_type": "markdown",
   "id": "edb6b40b",
   "metadata": {},
   "source": [
    "# Certificate"
   ]
  },
  {
   "cell_type": "code",
   "execution_count": null,
   "id": "d0defc55",
   "metadata": {
    "scrolled": true
   },
   "outputs": [],
   "source": [
    "# len(As) = 6 + J*3 + 1"
   ]
  },
  {
   "cell_type": "code",
   "execution_count": null,
   "id": "f9c581b0",
   "metadata": {
    "scrolled": true
   },
   "outputs": [],
   "source": [
    "lhs = np.concatenate([A @ x_local for A in As], axis = 1) # \\in R^((12 + J*5 + 1), (12 + J*3 + 1))\n",
    "rhs = Q @ x_local\n",
    "lag_mult = np.linalg.lstsq(lhs, rhs, rcond = None)[0]\n",
    "lag_mult.shape\n",
    "H = Q - sum([A * lag_mult[i] for i, A in enumerate(As)])\n",
    "#np.all(np.linalg.eigvals(H) > 0)\n",
    "eig_values, _ = np.linalg.eig(H)\n",
    "plt.close(\"all\")\n",
    "eig_values\n",
    "plt.scatter(range(len(eig_values)), eig_values)\n",
    "plt.ylabel(\"$\\lambda$\")\n",
    "print(f\"Minimum eigenvalue of H: {eig_values.min()}, Maximum eigenvalue of H: {eig_values.max()}\")"
   ]
  },
  {
   "cell_type": "code",
   "execution_count": null,
   "id": "776b5395",
   "metadata": {
    "scrolled": true
   },
   "outputs": [],
   "source": [
    "# plot the sparsity of the X matrix (should look dense for rank 1)\n",
    "Hplt = np.zeros((H.shape[0],H.shape[1],3))\n",
    "Hplt[abs(H)<1e-50] = [1,1,1]\n",
    "plt.matshow(Hplt, cmap='Greys')\n",
    "plt.show()"
   ]
  }
 ],
 "metadata": {
  "kernelspec": {
   "display_name": "Python 3 (ipykernel)",
   "language": "python",
   "name": "python3"
  },
  "language_info": {
   "codemirror_mode": {
    "name": "ipython",
    "version": 3
   },
   "file_extension": ".py",
   "mimetype": "text/x-python",
   "name": "python",
   "nbconvert_exporter": "python",
   "pygments_lexer": "ipython3",
   "version": "3.10.4"
  }
 },
 "nbformat": 4,
 "nbformat_minor": 5
}
